{
 "cells": [
  {
   "cell_type": "markdown",
   "metadata": {},
   "source": [
    "# Generate Representations\n",
    "In this notebook, we generate the inputs for the machine learning model. At the end of this notebook, we will have computed the features for all available data, and generated the pickle files needed to run these models for any available data."
   ]
  },
  {
   "cell_type": "code",
   "execution_count": 1,
   "metadata": {
    "collapsed": true
   },
   "outputs": [],
   "source": [
    "%matplotlib inline\n",
    "import sys\n",
    "from glob import glob\n",
    "sys.path = glob('/projects/CSC249ADCD01/packages/*') + sys.path\n",
    "from matplotlib import pyplot as plt\n",
    "import os\n",
    "import pandas as pd\n",
    "import numpy as np\n",
    "import pickle as pkl\n",
    "import gzip\n",
    "from stopping_power_ml.io import get_charge_density_interpolator\n",
    "from stopping_power_ml.features import LocalChargeDensity, IonIonForce, ProjectedAGNIFingerprints, ProjectileVelocity\n",
    "from tqdm import tqdm_notebook as tqdm"
   ]
  },
  {
   "cell_type": "markdown",
   "metadata": {},
   "source": [
    "Configure Parsl"
   ]
  },
  {
   "cell_type": "code",
   "execution_count": 2,
   "metadata": {},
   "outputs": [
    {
     "name": "stdout",
     "output_type": "stream",
     "text": [
      "Executors :  {0: <IPP Executor for site:Static_IPP>}\n"
     ]
    }
   ],
   "source": [
    "import parsl\n",
    "from parsl import *\n",
    "workers = IPyParallelExecutor()\n",
    "dfk = DataFlowKernel(executors=[workers])"
   ]
  },
  {
   "cell_type": "markdown",
   "metadata": {},
   "source": [
    "## Load in Dataset\n",
    "Load in the pickled dataset from `parse-qbox-data`"
   ]
  },
  {
   "cell_type": "code",
   "execution_count": 3,
   "metadata": {},
   "outputs": [
    {
     "name": "stdout",
     "output_type": "stream",
     "text": [
      "Loaded 50069 entries\n"
     ]
    }
   ],
   "source": [
    "data = pkl.load(gzip.open('data.pkl.gz', 'rb'))\n",
    "print('Loaded %d entries'%len(data))"
   ]
  },
  {
   "cell_type": "markdown",
   "metadata": {},
   "source": [
    "Load an example of the simualtion cell"
   ]
  },
  {
   "cell_type": "code",
   "execution_count": 4,
   "metadata": {
    "collapsed": true
   },
   "outputs": [],
   "source": [
    "start_frame = pkl.load(open('al_starting_frame.pkl', 'rb'))"
   ]
  },
  {
   "cell_type": "markdown",
   "metadata": {},
   "source": [
    "## Compute the Representation\n",
    "We use three kinds of features as input to our machine learning model:\n",
    "\n",
    "1. *Local Charge Density*: The local electron density at the projectile's current position and several positions in the future and past.\n",
    "1. *Local Environemnt*: Descriptions of the atom environment around the projectile using the AGNI fingerprints developed by [Botu *et al*](http://pubs.acs.org/doi/10.1021/acs.jpcc.6b10908)\n",
    "1. *Ion-Ion Repulsion*: The Coulombic repulsion force between the Al atoms and the projectile"
   ]
  },
  {
   "cell_type": "markdown",
   "metadata": {},
   "source": [
    "### Local Charge Density Features\n",
    "These features are based on the ground-state electronic structure of Al, as computed using DFT. The original "
   ]
  },
  {
   "cell_type": "code",
   "execution_count": 5,
   "metadata": {},
   "outputs": [
    {
     "name": "stdout",
     "output_type": "stream",
     "text": [
      "Wall time: 32 ms\n"
     ]
    }
   ],
   "source": [
    "%%time\n",
    "charge = pkl.load(open('density_interp-nosym.pkl', 'rb'))"
   ]
  },
  {
   "cell_type": "code",
   "execution_count": 6,
   "metadata": {
    "collapsed": true
   },
   "outputs": [],
   "source": [
    "charge_features = LocalChargeDensity(start_frame, charge, np.linspace(1, -5, 7))"
   ]
  },
  {
   "cell_type": "markdown",
   "metadata": {},
   "source": [
    "Compute the features. First, we define a parallel function with Parsl"
   ]
  },
  {
   "cell_type": "code",
   "execution_count": 10,
   "metadata": {},
   "outputs": [],
   "source": [
    "def compute_features(featurizer, data, chunks=96):\n",
    "    \"\"\"Compute the features for each entry in the dataframe.\n",
    "    \n",
    "    :param featurizer: tool used to compute the features\n",
    "    :param data: pd.DataFrame, data to be featurized\n",
    "    :param threads_per_worker: int, number of threads to run on each Parsl worker\n",
    "    :param chunks: int, number of pieces to evaluate in parallel\"\"\"\n",
    "    \n",
    "#     @App('python', dfk)\n",
    "#     def compute_features(chunk):\n",
    "#         return featurizer.featurize_dataframe(chunk, ['position', 'velocity'], inplace=False)\n",
    "# \n",
    "#     chunks = [compute_features(chunk) for chunk in np.array_split(data, chunks)]\n",
    "#     return pd.concat([c.result() for c in tqdm(chunks, desc='Running')])\n",
    "    return featurizer.featurize_dataframe(data, ['position', 'velocity'])"
   ]
  },
  {
   "cell_type": "code",
   "execution_count": 11,
   "metadata": {},
   "outputs": [
    {
     "name": "stdout",
     "output_type": "stream",
     "text": [
      "Wall time: 4min 37s\n"
     ]
    }
   ],
   "source": [
    "%%time\n",
    "data = compute_features(charge_features, data)"
   ]
  },
  {
   "cell_type": "markdown",
   "metadata": {},
   "source": [
    "## Compute AGNI Fingerprints\n",
    "Use these to describe the local enviroment around a particle"
   ]
  },
  {
   "cell_type": "code",
   "execution_count": 12,
   "metadata": {
    "collapsed": true
   },
   "outputs": [],
   "source": [
    "agni_features = ProjectedAGNIFingerprints(start_frame, etas=np.logspace(np.log10(0.8), np.log10(16), 8).tolist(),\n",
    "                                          use_prim_cell=False)"
   ]
  },
  {
   "cell_type": "code",
   "execution_count": 13,
   "metadata": {},
   "outputs": [
    {
     "name": "stdout",
     "output_type": "stream",
     "text": [
      "Wall time: 2min 3s\n"
     ]
    }
   ],
   "source": [
    "%%time\n",
    "#data = agni_features.featurize_dataframe(data, 'atoms')\n",
    "data = compute_features(agni_features, data) # Turned off while writing this notebook"
   ]
  },
  {
   "cell_type": "markdown",
   "metadata": {},
   "source": [
    "## Compute Ion-Ion Interaction Forces\n",
    "Get the repulsion force due to the ion-ion repulsion from the surrounding Al nuclei. Specifically, we compute the force acting on the particle in the direction of travel using the [Ewald summation method](https://en.wikipedia.org/wiki/Ewald_summation)."
   ]
  },
  {
   "cell_type": "code",
   "execution_count": 14,
   "metadata": {
    "collapsed": true
   },
   "outputs": [],
   "source": [
    "ewald_features = IonIonForce(start_frame, acc=4)"
   ]
  },
  {
   "cell_type": "code",
   "execution_count": 15,
   "metadata": {},
   "outputs": [
    {
     "name": "stdout",
     "output_type": "stream",
     "text": [
      "Wall time: 1min 10s\n"
     ]
    }
   ],
   "source": [
    "%%time\n",
    "data = compute_features(ewald_features, data) "
   ]
  },
  {
   "cell_type": "markdown",
   "metadata": {},
   "source": [
    "## Add Velocity as Feature\n",
    "Just the magnitude of the projectile velocity"
   ]
  },
  {
   "cell_type": "code",
   "execution_count": 16,
   "metadata": {
    "collapsed": true
   },
   "outputs": [],
   "source": [
    "velocity_feature = ProjectileVelocity(start_frame)"
   ]
  },
  {
   "cell_type": "code",
   "execution_count": 17,
   "metadata": {},
   "outputs": [
    {
     "name": "stdout",
     "output_type": "stream",
     "text": [
      "Wall time: 7.16 s\n"
     ]
    }
   ],
   "source": [
    "%%time\n",
    "data = compute_features(velocity_feature, data) "
   ]
  },
  {
   "cell_type": "markdown",
   "metadata": {},
   "source": [
    "## Save everything to disk\n",
    "Data and featurizers"
   ]
  },
  {
   "cell_type": "code",
   "execution_count": 18,
   "metadata": {},
   "outputs": [
    {
     "data": {
      "text/plain": [
       "Index(['energy', 'file_id', 'force', 'frame_id', 'position', 'velocity',\n",
       "       'file', 'timestep', 'displacement', 'directory', 'log density t=1.0',\n",
       "       'log density t=0.0', 'log density t=-1.0', 'log density t=-2.0',\n",
       "       'log density t=-3.0', 'log density t=-4.0', 'log density t=-5.0',\n",
       "       'AGNI projected eta=8.00e-01', 'AGNI projected eta=1.23e+00',\n",
       "       'AGNI projected eta=1.88e+00', 'AGNI projected eta=2.89e+00',\n",
       "       'AGNI projected eta=4.43e+00', 'AGNI projected eta=6.80e+00',\n",
       "       'AGNI projected eta=1.04e+01', 'AGNI projected eta=1.60e+01',\n",
       "       'AGNI eta=8.00e-01', 'AGNI eta=1.23e+00', 'AGNI eta=1.88e+00',\n",
       "       'AGNI eta=2.89e+00', 'AGNI eta=4.43e+00', 'AGNI eta=6.80e+00',\n",
       "       'AGNI eta=1.04e+01', 'AGNI eta=1.60e+01', 'ion-ion repulsion',\n",
       "       'velocity_mag'],\n",
       "      dtype='object')"
      ]
     },
     "execution_count": 18,
     "metadata": {},
     "output_type": "execute_result"
    }
   ],
   "source": [
    "data.columns"
   ]
  },
  {
   "cell_type": "code",
   "execution_count": 19,
   "metadata": {
    "collapsed": true
   },
   "outputs": [],
   "source": [
    "data.to_pickle(gzip.open('training_data.pkl.gz', 'wb'))"
   ]
  },
  {
   "cell_type": "code",
   "execution_count": 20,
   "metadata": {
    "collapsed": true
   },
   "outputs": [],
   "source": [
    "pkl.dump([charge_features, agni_features, ewald_features, velocity_feature], open('featurizers.pkl', 'wb'))"
   ]
  },
  {
   "cell_type": "code",
   "execution_count": 21,
   "metadata": {
    "collapsed": true
   },
   "outputs": [],
   "source": [
    "dfk.cleanup()"
   ]
  },
  {
   "cell_type": "code",
   "execution_count": null,
   "metadata": {
    "collapsed": true
   },
   "outputs": [],
   "source": []
  }
 ],
 "metadata": {
  "kernelspec": {
   "display_name": "Python 3",
   "language": "python",
   "name": "python3"
  },
  "language_info": {
   "codemirror_mode": {
    "name": "ipython",
    "version": 3
   },
   "file_extension": ".py",
   "mimetype": "text/x-python",
   "name": "python",
   "nbconvert_exporter": "python",
   "pygments_lexer": "ipython3",
   "version": "3.6.0"
  }
 },
 "nbformat": 4,
 "nbformat_minor": 2
}
